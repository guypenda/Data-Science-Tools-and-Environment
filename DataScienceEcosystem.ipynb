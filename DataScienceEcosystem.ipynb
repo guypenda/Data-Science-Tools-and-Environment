{
  "metadata": {
    "kernelspec": {
      "name": "python",
      "display_name": "Python (Pyodide)",
      "language": "python"
    },
    "language_info": {
      "codemirror_mode": {
        "name": "python",
        "version": 3
      },
      "file_extension": ".py",
      "mimetype": "text/x-python",
      "name": "python",
      "nbconvert_exporter": "python",
      "pygments_lexer": "ipython3",
      "version": "3.8"
    }
  },
  "nbformat_minor": 4,
  "nbformat": 4,
  "cells": [
    {
      "cell_type": "markdown",
      "source": "# Data Science Tools and Ecosystem",
      "metadata": {}
    },
    {
      "cell_type": "markdown",
      "source": "***Objectives***\n\n- List some popular languages used for data science\n- List some libraries used for data science\n- List some open source development environments for data science projects\n- Show few examples of arithmetic expression evaluation with Python",
      "metadata": {}
    },
    {
      "cell_type": "markdown",
      "source": "In this notebook, Data Science Tools and Ecosystem are summarized.",
      "metadata": {}
    },
    {
      "cell_type": "markdown",
      "source": "Some of the popular languages that Data Scientists use are:\n1. Python\n2. R\n3. Java\n4. Julia\n5. C/C++\n6. Swift\n7. SQL\n8. Go",
      "metadata": {}
    },
    {
      "cell_type": "markdown",
      "source": "Some of the commonly used libraries used by Data Scientists include:\n1. Scikit-Learn\n2. NumPy\n3. Keras\n4. Pytorch\n5. Seaborn\n6. TensorFlow\n7. Scipy",
      "metadata": {}
    },
    {
      "cell_type": "markdown",
      "source": "Some Open Source data science development environment:\n\n| Data Sciences Tools | \n| -------------|\n| Jupyter NoteBook | \n| SPyder | \n| PyCharm | \n| R Studio | \n",
      "metadata": {}
    },
    {
      "cell_type": "markdown",
      "source": "### Below are a few examples of evaluating arithmetic expressions in Python",
      "metadata": {}
    },
    {
      "cell_type": "code",
      "source": "# This a simple arithmetic expression to mutiply then add integers\n(3*4)+5",
      "metadata": {
        "trusted": true
      },
      "outputs": [
        {
          "execution_count": 2,
          "output_type": "execute_result",
          "data": {
            "text/plain": "17"
          },
          "metadata": {}
        }
      ],
      "execution_count": 2
    },
    {
      "cell_type": "code",
      "source": "# This will convert 200 minutes to hours by diving by 60\nhours0=200/60\n\n#This is a version that makes the time easier to read \nhours = 200//60\nminutes = 200 - (60*hours)\n\n#printing the results\nprint('200 minutes are {} hours.\\nWhat is equivalent to {} hours and {} minutes'.format(hours0, hours, minutes))",
      "metadata": {
        "trusted": true
      },
      "outputs": [
        {
          "name": "stdout",
          "text": "200 minutes are 3.3333333333333335 hours.\nWhat is equivalent to 3 hours and 20 minutes\n",
          "output_type": "stream"
        }
      ],
      "execution_count": 20
    },
    {
      "cell_type": "markdown",
      "source": "## Authors\n[Guy PENDA](https://www.linkedin.com/in/guy-penda-56021520/) ",
      "metadata": {}
    }
  ]
}